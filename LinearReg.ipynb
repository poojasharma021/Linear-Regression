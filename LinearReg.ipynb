{
  "nbformat": 4,
  "nbformat_minor": 0,
  "metadata": {
    "colab": {
      "name": "LinearReg",
      "provenance": [],
      "collapsed_sections": []
    },
    "kernelspec": {
      "name": "python3",
      "display_name": "Python 3"
    },
    "language_info": {
      "name": "python"
    }
  },
  "cells": [
    {
      "cell_type": "code",
      "metadata": {
        "id": "BrD-Y5VYzpLN"
      },
      "source": [
        "import numpy as np\n"
      ],
      "execution_count": null,
      "outputs": []
    },
    {
      "cell_type": "code",
      "metadata": {
        "id": "bu825rSNzxxP"
      },
      "source": [
        "# defining linear regression class\n",
        "class LinearRegressionCustom():\n",
        "     def __init__(self,lr=0.001, n_iters=1000):\n",
        "        self.lr=lr\n",
        "        self.n_iters=n_iters \n",
        "        self.weights=0\n",
        "        self.bias=0\n",
        "    \n",
        "     def fit(self,X,y):\n",
        "      # (n_samples,n_features) =X.shape\n",
        "      n_samples=X.shape[0]\n",
        "      n_features=X.shape[1]\n",
        "      self.weights=np.random.randn(n_features,1)\n",
        "      self.bias =0\n",
        "\n",
        "      for _ in range(self.n_iters):\n",
        "          y_predicted = np.dot(X , self.weights)+ self.bias\n",
        "\n",
        "          dw = (1/n_samples) * np.dot(X.T,(y_predicted - y))\n",
        "          db = (1/n_samples) * np.sum(y_predicted-y)\n",
        "\n",
        "          self.weights -=self.lr*dw\n",
        "          self.bias -=self.lr*db\n",
        "\n",
        "\n",
        "     def predict(self, X):\n",
        "      y_predicted = np.dot(X , self.weights)+ self.bias\n",
        "      return y_predicted\n",
        "\n",
        "        \n"
      ],
      "execution_count": null,
      "outputs": []
    },
    {
      "cell_type": "code",
      "metadata": {
        "colab": {
          "base_uri": "https://localhost:8080/"
        },
        "id": "FgcUNwcvg_4J",
        "outputId": "951eb391-b09c-4e77-b274-66f00b1351f4"
      },
      "source": [
        "type(LinearRegressionCustom())"
      ],
      "execution_count": null,
      "outputs": [
        {
          "output_type": "execute_result",
          "data": {
            "text/plain": [
              "__main__.LinearRegressionCustom"
            ]
          },
          "metadata": {
            "tags": []
          },
          "execution_count": 3
        }
      ]
    },
    {
      "cell_type": "code",
      "metadata": {
        "id": "mqZc78Vs3gC0"
      },
      "source": [
        "from sklearn.model_selection import train_test_split\n",
        "from sklearn import datasets\n",
        "import matplotlib.pyplot as plt"
      ],
      "execution_count": null,
      "outputs": []
    },
    {
      "cell_type": "code",
      "metadata": {
        "id": "pi2cbdq-37CP"
      },
      "source": [
        "X, y = datasets.make_regression(n_samples=100,n_features=1,noise=20,random_state=4)\n",
        "X_train, X_test , y_train , y_test = train_test_split(X,y,test_size=0.2,random_state=1234)\n",
        "y_train = y_train.reshape(-1, 1)\n",
        "y_test = y_test.reshape(-1, 1)"
      ],
      "execution_count": null,
      "outputs": []
    },
    {
      "cell_type": "code",
      "metadata": {
        "colab": {
          "base_uri": "https://localhost:8080/"
        },
        "id": "VF-UueqqmLKl",
        "outputId": "84f05102-2f29-46bd-ef48-1d342c6f8c19"
      },
      "source": [
        "X_train.shape, y_train.shape, X_test.shape, y_test.shape"
      ],
      "execution_count": null,
      "outputs": [
        {
          "output_type": "execute_result",
          "data": {
            "text/plain": [
              "((80, 1), (80, 1), (20, 1), (20, 1))"
            ]
          },
          "metadata": {
            "tags": []
          },
          "execution_count": 6
        }
      ]
    },
    {
      "cell_type": "code",
      "metadata": {
        "id": "4w55rZC5mexJ"
      },
      "source": [
        "# Data Preprocessing\n",
        "x_min_ = X_train.min(axis=0)\n",
        "x_max_ = X_train.max(axis=0)\n",
        "y_min_ = y_train.min(axis=0)\n",
        "y_max_ = y_train.max(axis=0)"
      ],
      "execution_count": null,
      "outputs": []
    },
    {
      "cell_type": "code",
      "metadata": {
        "id": "2nJNv-Ommztl"
      },
      "source": [
        "X_train = 2*(X_train-x_min_)/(x_max_-x_min_)-1\n",
        "y_train = 2*(y_train-y_min_)/(y_max_-y_min_)-1\n",
        "X_test = 2*(X_test-x_min_)/(x_max_-x_min_)-1\n",
        "y_test = 2*(y_test-y_min_)/(y_max_-y_min_)-1"
      ],
      "execution_count": null,
      "outputs": []
    },
    {
      "cell_type": "code",
      "metadata": {
        "id": "zC_bB4pV4fug"
      },
      "source": [
        "regressor = LinearRegressionCustom()\n",
        "regressor.fit(X_train,y_train)\n",
        "predicted = regressor.predict(X_test)\n"
      ],
      "execution_count": null,
      "outputs": []
    },
    {
      "cell_type": "code",
      "metadata": {
        "colab": {
          "base_uri": "https://localhost:8080/"
        },
        "id": "Gou0oVDIg4in",
        "outputId": "0c7ca8c0-a928-481e-92a0-f7f59833c70b"
      },
      "source": [
        "type(regressor)"
      ],
      "execution_count": null,
      "outputs": [
        {
          "output_type": "execute_result",
          "data": {
            "text/plain": [
              "__main__.LinearRegressionCustom"
            ]
          },
          "metadata": {
            "tags": []
          },
          "execution_count": 10
        }
      ]
    },
    {
      "cell_type": "code",
      "metadata": {
        "id": "ZKzumcWn59i1"
      },
      "source": [
        "def mse(y_true,y_predicted):\n",
        "  return np.mean((y_true-y_predicted)**2)\n",
        "\n"
      ],
      "execution_count": null,
      "outputs": []
    },
    {
      "cell_type": "code",
      "metadata": {
        "colab": {
          "base_uri": "https://localhost:8080/"
        },
        "id": "Z4knWLbA6NuQ",
        "outputId": "2c9d4604-6976-4b7b-dbe2-7e277540d6ac"
      },
      "source": [
        "mse_value = mse(y_test, predicted)\n",
        "print(mse_value)"
      ],
      "execution_count": null,
      "outputs": [
        {
          "output_type": "stream",
          "text": [
            "0.010766769999819892\n"
          ],
          "name": "stdout"
        }
      ]
    },
    {
      "cell_type": "markdown",
      "metadata": {
        "id": "FWZ8w2Da7Uzv"
      },
      "source": [
        "Implementing using Scikit Learn "
      ]
    },
    {
      "cell_type": "code",
      "metadata": {
        "id": "U-chjD_r7Y76"
      },
      "source": [
        "from sklearn.linear_model import LinearRegression\n",
        "from sklearn.metrics import mean_squared_error"
      ],
      "execution_count": null,
      "outputs": []
    },
    {
      "cell_type": "code",
      "metadata": {
        "id": "yyYW4UqV7swd"
      },
      "source": [
        "reg = LinearRegression()\n",
        "reg = reg.fit(X_train,y_train)\n",
        "pre = reg.predict(X_test)\n",
        "\n"
      ],
      "execution_count": null,
      "outputs": []
    },
    {
      "cell_type": "code",
      "metadata": {
        "colab": {
          "base_uri": "https://localhost:8080/"
        },
        "id": "T-A74Zem8u50",
        "outputId": "2eb1d91a-6da7-4e37-d722-9fd45037f817"
      },
      "source": [
        "r2_score = reg.score(X_train,y_train)\n",
        "print (r2_score)"
      ],
      "execution_count": null,
      "outputs": [
        {
          "output_type": "stream",
          "text": [
            "0.9521528477491382\n"
          ],
          "name": "stdout"
        }
      ]
    },
    {
      "cell_type": "code",
      "metadata": {
        "id": "swmU9hv7liAU"
      },
      "source": [
        "mse=mean_squared_error(pre, y_test)"
      ],
      "execution_count": null,
      "outputs": []
    },
    {
      "cell_type": "code",
      "metadata": {
        "colab": {
          "base_uri": "https://localhost:8080/"
        },
        "id": "SehUhbkOlwqz",
        "outputId": "5ddef289-7c15-4c79-f7b5-fa1ba43b8297"
      },
      "source": [
        "print(mse)"
      ],
      "execution_count": null,
      "outputs": [
        {
          "output_type": "stream",
          "text": [
            "0.009528478693697422\n"
          ],
          "name": "stdout"
        }
      ]
    },
    {
      "cell_type": "code",
      "metadata": {
        "colab": {
          "base_uri": "https://localhost:8080/"
        },
        "id": "-AXfvCfllxtk",
        "outputId": "34d1ac03-f0d6-4ab5-dd1e-e9710d14cb0c"
      },
      "source": [
        "abs(mse_value - mse)/mse *100"
      ],
      "execution_count": null,
      "outputs": [
        {
          "output_type": "execute_result",
          "data": {
            "text/plain": [
              "12.99568741169074"
            ]
          },
          "metadata": {
            "tags": []
          },
          "execution_count": 18
        }
      ]
    },
    {
      "cell_type": "code",
      "metadata": {
        "id": "tBwjPJPFsCAj"
      },
      "source": [
        ""
      ],
      "execution_count": null,
      "outputs": []
    }
  ]
}